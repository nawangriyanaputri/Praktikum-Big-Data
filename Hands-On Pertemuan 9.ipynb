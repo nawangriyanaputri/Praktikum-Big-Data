{
 "cells": [
  {
   "cell_type": "code",
   "execution_count": 31,
   "id": "c8fc8a82-1b58-4dd9-b7de-121ecc700523",
   "metadata": {},
   "outputs": [
    {
     "name": "stderr",
     "output_type": "stream",
     "text": [
      "25/10/29 16:25:55 WARN SparkSession: Using an existing Spark session; only runtime SQL configurations will take effect.\n"
     ]
    }
   ],
   "source": [
    "# Tugas 1\n",
    "from pyspark.sql import SparkSession\n",
    "spark = SparkSession.builder.appName(\"Tugas1\").getOrCreate()"
   ]
  },
  {
   "cell_type": "code",
   "execution_count": 32,
   "id": "53ab9c51-dc04-45bd-81c5-ced53502792b",
   "metadata": {},
   "outputs": [
    {
     "name": "stdout",
     "output_type": "stream",
     "text": [
      "+-----+---+------+------+------+\n",
      "| Name|Age|Gender|Salary|DeptId|\n",
      "+-----+---+------+------+------+\n",
      "|James| 34|     M|  3000|     1|\n",
      "| Anna| 28|     F|  4100|     2|\n",
      "|  Lee| 23|     M|  2700|     1|\n",
      "+-----+---+------+------+------+\n",
      "\n",
      "+----+---+\n",
      "|Name|Age|\n",
      "+----+---+\n",
      "|Anna| 28|\n",
      "+----+---+\n",
      "\n",
      "+------------------+\n",
      "|       avg(Salary)|\n",
      "+------------------+\n",
      "|3266.6666666666665|\n",
      "+------------------+\n",
      "\n"
     ]
    }
   ],
   "source": [
    "data = [\n",
    "    ('James', 34, 'M', 3000, 1),\n",
    "    ('Anna', 28, 'F', 4100, 2),\n",
    "    ('Lee', 23, 'M', 2700, 1)\n",
    "]\n",
    "columns = ['Name', 'Age', 'Gender', 'Salary', 'DeptId']\n",
    "df = spark.createDataFrame(data, schema=columns)\n",
    "df.createOrReplaceTempView('employees')\n",
    "spark.sql('SELECT * FROM employees').show()\n",
    "spark.sql('SELECT Name, Age FROM employees WHERE Salary > 3000').show()\n",
    "spark.sql('SELECT AVG(Salary) FROM employees').show()"
   ]
  },
  {
   "cell_type": "code",
   "execution_count": 33,
   "id": "4d98168b-80d4-45db-8faf-1c04faf4a282",
   "metadata": {},
   "outputs": [
    {
     "name": "stdout",
     "output_type": "stream",
     "text": [
      "+------+-----------+---+\n",
      "|Gender|TotalSalary|Age|\n",
      "+------+-----------+---+\n",
      "|     M|       2700| 23|\n",
      "|     F|       4100| 28|\n",
      "|     M|       3000| 34|\n",
      "+------+-----------+---+\n",
      "\n"
     ]
    }
   ],
   "source": [
    "# Tugas 2\n",
    "spark.sql('''\n",
    "SELECT Gender, SUM(Salary) as TotalSalary, Age\n",
    "FROM employees\n",
    "GROUP BY Gender, Age\n",
    "ORDER BY Age\n",
    "''').show()"
   ]
  },
  {
   "cell_type": "code",
   "execution_count": 34,
   "id": "c3a34a59-8a9e-4969-8af8-094bb323769d",
   "metadata": {},
   "outputs": [
    {
     "name": "stdout",
     "output_type": "stream",
     "text": [
      "+------+---------+\n",
      "|DeptId|AvgSalary|\n",
      "+------+---------+\n",
      "|     1|   2850.0|\n",
      "|     2|   4100.0|\n",
      "+------+---------+\n",
      "\n"
     ]
    }
   ],
   "source": [
    "# Tugas Tambahan 2 NO 1\n",
    "spark.sql('''\n",
    "SELECT DeptId, AVG(Salary) as AvgSalary\n",
    "FROM employees\n",
    "GROUP BY DeptId\n",
    "ORDER BY DeptId\n",
    "''').show()"
   ]
  },
  {
   "cell_type": "code",
   "execution_count": 35,
   "id": "45ca97c2-57fd-4d6b-8c43-c6a6ecf8e40a",
   "metadata": {},
   "outputs": [
    {
     "name": "stdout",
     "output_type": "stream",
     "text": [
      "+-----+------+------+\n",
      "| Name|Gender|Salary|\n",
      "+-----+------+------+\n",
      "|James|     M|  3000|\n",
      "+-----+------+------+\n",
      "\n"
     ]
    }
   ],
   "source": [
    "# Tugas Tambahan 2 NO 2\n",
    "spark.sql('''\n",
    "SELECT e.Name, e.Gender, e.Salary\n",
    "FROM employees e\n",
    "JOIN (\n",
    "    SELECT Gender, AVG(Salary) as AvgSalary\n",
    "    FROM employees\n",
    "    GROUP BY Gender\n",
    ") g\n",
    "ON e.Gender = g.Gender\n",
    "WHERE e.Salary > g.AvgSalary\n",
    "ORDER BY e.Gender, e.Salary DESC\n",
    "''').show()"
   ]
  },
  {
   "cell_type": "code",
   "execution_count": 36,
   "id": "bd874cf0-d9fc-4ce4-ae5e-3f1d833c9d31",
   "metadata": {},
   "outputs": [
    {
     "name": "stdout",
     "output_type": "stream",
     "text": [
      "+-----+---+------+------+------+----+\n",
      "| Name|Age|Gender|Salary|DeptId|Rank|\n",
      "+-----+---+------+------+------+----+\n",
      "|James| 34|     M|  3000|     1|   1|\n",
      "|  Lee| 23|     M|  2700|     1|   2|\n",
      "| Anna| 28|     F|  4100|     2|   1|\n",
      "+-----+---+------+------+------+----+\n",
      "\n"
     ]
    }
   ],
   "source": [
    "# Tugas Tambahan 2 NO 3\n",
    "from pyspark.sql.window import Window\n",
    "import pyspark.sql.functions as F\n",
    "\n",
    "windowDept = Window.partitionBy('DeptId').orderBy(F.desc('Salary'))\n",
    "\n",
    "employees_with_rank = spark.table('employees').withColumn('Rank', F.rank().over(windowDept))\n",
    "employees_with_rank.show()"
   ]
  },
  {
   "cell_type": "code",
   "execution_count": 37,
   "id": "ee8a39cb-86ec-4ecf-af98-9a16d7f23f60",
   "metadata": {},
   "outputs": [
    {
     "name": "stdout",
     "output_type": "stream",
     "text": [
      "+-----+---+------+----+\n",
      "| Name|Age|Salary|rank|\n",
      "+-----+---+------+----+\n",
      "|  Lee| 23|  2700|   1|\n",
      "| Anna| 28|  4100|   1|\n",
      "|James| 34|  3000|   1|\n",
      "+-----+---+------+----+\n",
      "\n"
     ]
    }
   ],
   "source": [
    "# Tugas 3\n",
    "spark.sql('''\n",
    "SELECT Name, Age, Salary, ROW_NUMBER() OVER (PARTITION BY Age ORDER BY Salary DESC) as rank\n",
    "FROM employees\n",
    "''').show()"
   ]
  },
  {
   "cell_type": "code",
   "execution_count": 38,
   "id": "4ccc3411-a91b-4adf-aa36-6b4edffe53a5",
   "metadata": {},
   "outputs": [
    {
     "name": "stderr",
     "output_type": "stream",
     "text": [
      "25/10/29 16:25:59 WARN SparkSession: Using an existing Spark session; only runtime SQL configurations will take effect.\n"
     ]
    },
    {
     "name": "stdout",
     "output_type": "stream",
     "text": [
      "+-----+---+---------+-----------+\n",
      "| Name|Age| DeptName|ProjectName|\n",
      "+-----+---+---------+-----------+\n",
      "|  Lee| 23|       HR|  Project A|\n",
      "|James| 34|       HR|  Project A|\n",
      "| Anna| 28|Marketing|  Project B|\n",
      "+-----+---+---------+-----------+\n",
      "\n"
     ]
    }
   ],
   "source": [
    "# Tugas 4\n",
    "from pyspark.sql import SparkSession\n",
    "spark = SparkSession.builder.appName('Pertemuan9').getOrCreate()\n",
    "\n",
    "# Data setup for complex SQL queries\n",
    "employees = spark.createDataFrame([\n",
    "    ('James', 34, 'M', 3000, 1),\n",
    "    ('Anna', 28, 'F', 4100, 2),\n",
    "    ('Lee', 23, 'M', 2700, 1)\n",
    "], ['Name', 'Age', 'Gender', 'Salary', 'DeptId'])\n",
    "departments = spark.createDataFrame([\n",
    "    (1, 'HR'),\n",
    "    (2, 'Marketing')\n",
    "], ['DeptId', 'DeptName'])\n",
    "projects = spark.createDataFrame([\n",
    "    (1, 'Project A'),\n",
    "    (2, 'Project B')\n",
    "], ['DeptId', 'ProjectName'])\n",
    "employees.createOrReplaceTempView('employees')\n",
    "departments.createOrReplaceTempView('departments')\n",
    "projects.createOrReplaceTempView('projects')\n",
    "\n",
    "# Complex SQL query involving multiple joins and subqueries\n",
    "spark.sql('''\n",
    "SELECT e.Name, e.Age, d.DeptName, p.ProjectName\n",
    "FROM employees e\n",
    "JOIN departments d ON e.DeptId = d.DeptId\n",
    "JOIN projects p ON e.DeptId = p.DeptId\n",
    "''').show()"
   ]
  },
  {
   "cell_type": "code",
   "execution_count": 39,
   "id": "2a77ec0b-a589-403d-a91b-06ab459eef79",
   "metadata": {},
   "outputs": [
    {
     "name": "stdout",
     "output_type": "stream",
     "text": [
      "+-----+------+---------+-------------+--------+\n",
      "| Name|Salary| DeptName|AvgDeptSalary|DeptRank|\n",
      "+-----+------+---------+-------------+--------+\n",
      "|James|  3000|       HR|       2850.0|       1|\n",
      "|  Lee|  2700|       HR|       2850.0|       2|\n",
      "| Anna|  4100|Marketing|       4100.0|       1|\n",
      "+-----+------+---------+-------------+--------+\n",
      "\n"
     ]
    }
   ],
   "source": [
    "# Tugas 5\n",
    "spark.sql('''\n",
    "SELECT e.Name, e.Salary, d.DeptName, \n",
    "       AVG(e.Salary) OVER (PARTITION BY d.DeptName) as AvgDeptSalary,\n",
    "       RANK() OVER (PARTITION BY d.DeptName ORDER BY e.Salary DESC) as DeptRank\n",
    "FROM employees e\n",
    "JOIN departments d ON e.DeptId = d.DeptId\n",
    "ORDER BY d.DeptName, DeptRank\n",
    "''').show()"
   ]
  },
  {
   "cell_type": "code",
   "execution_count": 40,
   "id": "8a91ae01-1918-4bc2-a2e6-71e852a6d390",
   "metadata": {},
   "outputs": [
    {
     "name": "stdout",
     "output_type": "stream",
     "text": [
      "+-----+---+------+---------+------------------+\n",
      "| Name|Age|Salary| DeptName|AvgSalaryByAgeDept|\n",
      "+-----+---+------+---------+------------------+\n",
      "|  Lee| 23|  2700|       HR|            2700.0|\n",
      "|James| 34|  3000|       HR|            3000.0|\n",
      "| Anna| 28|  4100|Marketing|            4100.0|\n",
      "+-----+---+------+---------+------------------+\n",
      "\n"
     ]
    }
   ],
   "source": [
    "# Tugas 6\n",
    "spark.sql('''\n",
    "SELECT e.Name, e.Age, e.Salary, d.DeptName,\n",
    "       AVG(e.Salary) OVER (PARTITION BY d.DeptName, e.Age) as AvgSalaryByAgeDept\n",
    "FROM employees e\n",
    "JOIN departments d ON e.DeptId = d.DeptId\n",
    "ORDER BY d.DeptName, e.Age\n",
    "''').show()"
   ]
  },
  {
   "cell_type": "code",
   "execution_count": 41,
   "id": "0c2cdb79-c701-4903-9a3b-9dfec8b7b15f",
   "metadata": {},
   "outputs": [
    {
     "name": "stdout",
     "output_type": "stream",
     "text": [
      "Requirement already satisfied: matplotlib in ./anaconda3/envs/BigData_Nawang/lib/python3.13/site-packages (3.10.7)\n",
      "Requirement already satisfied: pandas in ./anaconda3/envs/BigData_Nawang/lib/python3.13/site-packages (2.3.3)\n",
      "Requirement already satisfied: contourpy>=1.0.1 in ./anaconda3/envs/BigData_Nawang/lib/python3.13/site-packages (from matplotlib) (1.3.3)\n",
      "Requirement already satisfied: cycler>=0.10 in ./anaconda3/envs/BigData_Nawang/lib/python3.13/site-packages (from matplotlib) (0.12.1)\n",
      "Requirement already satisfied: fonttools>=4.22.0 in ./anaconda3/envs/BigData_Nawang/lib/python3.13/site-packages (from matplotlib) (4.60.1)\n",
      "Requirement already satisfied: kiwisolver>=1.3.1 in ./anaconda3/envs/BigData_Nawang/lib/python3.13/site-packages (from matplotlib) (1.4.9)\n",
      "Requirement already satisfied: numpy>=1.23 in ./anaconda3/envs/BigData_Nawang/lib/python3.13/site-packages (from matplotlib) (2.3.3)\n",
      "Requirement already satisfied: packaging>=20.0 in ./anaconda3/envs/BigData_Nawang/lib/python3.13/site-packages (from matplotlib) (25.0)\n",
      "Requirement already satisfied: pillow>=8 in ./anaconda3/envs/BigData_Nawang/lib/python3.13/site-packages (from matplotlib) (12.0.0)\n",
      "Requirement already satisfied: pyparsing>=3 in ./anaconda3/envs/BigData_Nawang/lib/python3.13/site-packages (from matplotlib) (3.2.5)\n",
      "Requirement already satisfied: python-dateutil>=2.7 in ./anaconda3/envs/BigData_Nawang/lib/python3.13/site-packages (from matplotlib) (2.9.0.post0)\n",
      "Requirement already satisfied: pytz>=2020.1 in ./anaconda3/envs/BigData_Nawang/lib/python3.13/site-packages (from pandas) (2025.2)\n",
      "Requirement already satisfied: tzdata>=2022.7 in ./anaconda3/envs/BigData_Nawang/lib/python3.13/site-packages (from pandas) (2025.2)\n",
      "Requirement already satisfied: six>=1.5 in ./anaconda3/envs/BigData_Nawang/lib/python3.13/site-packages (from python-dateutil>=2.7->matplotlib) (1.17.0)\n"
     ]
    }
   ],
   "source": [
    "# Tugas 7\n",
    "!pip install matplotlib pandas"
   ]
  },
  {
   "cell_type": "code",
   "execution_count": 42,
   "id": "91e63880-fd51-4bb0-8c0e-9af3fe464374",
   "metadata": {},
   "outputs": [
    {
     "data": {
      "image/png": "[encoded data removed]",
      "text/plain": [
       "<Figure size 800x500 with 1 Axes>"
      ]
     },
     "metadata": {},
     "output_type": "display_data"
    }
   ],
   "source": [
    "import matplotlib.pyplot as plt\n",
    "import pandas as pd\n",
    "\n",
    "dept_summary = spark.sql('''\n",
    "SELECT d.DeptName,\n",
    "       SUM(e.Salary) AS TotalSalary,\n",
    "       COUNT(e.Name) AS EmployeeCount\n",
    "FROM employees e\n",
    "JOIN departments d ON e.DeptId = d.DeptId\n",
    "GROUP BY d.DeptName\n",
    "ORDER BY TotalSalary DESC\n",
    "''').toPandas()\n",
    "\n",
    "plt.figure(figsize=(8, 5))\n",
    "plt.bar(dept_summary['DeptName'], dept_summary['TotalSalary'], color='skyblue')\n",
    "plt.xlabel('Department')\n",
    "plt.ylabel('Total Salary')\n",
    "plt.title('Total Salary per Department')\n",
    "plt.grid(True, linestyle='--', alpha=0.6)\n",
    "plt.show()"
   ]
  },
  {
   "cell_type": "code",
   "execution_count": 43,
   "id": "6058a93a-ac52-4abe-93e1-a28e31de0fd1",
   "metadata": {},
   "outputs": [
    {
     "name": "stdout",
     "output_type": "stream",
     "text": [
      "Requirement already satisfied: pyspark in ./anaconda3/envs/BigData_Nawang/lib/python3.13/site-packages (4.0.1)\n",
      "Requirement already satisfied: matplotlib in ./anaconda3/envs/BigData_Nawang/lib/python3.13/site-packages (3.10.7)\n",
      "Requirement already satisfied: pandas in ./anaconda3/envs/BigData_Nawang/lib/python3.13/site-packages (2.3.3)\n",
      "Requirement already satisfied: py4j==0.10.9.9 in ./anaconda3/envs/BigData_Nawang/lib/python3.13/site-packages (from pyspark) (0.10.9.9)\n",
      "Requirement already satisfied: contourpy>=1.0.1 in ./anaconda3/envs/BigData_Nawang/lib/python3.13/site-packages (from matplotlib) (1.3.3)\n",
      "Requirement already satisfied: cycler>=0.10 in ./anaconda3/envs/BigData_Nawang/lib/python3.13/site-packages (from matplotlib) (0.12.1)\n",
      "Requirement already satisfied: fonttools>=4.22.0 in ./anaconda3/envs/BigData_Nawang/lib/python3.13/site-packages (from matplotlib) (4.60.1)\n",
      "Requirement already satisfied: kiwisolver>=1.3.1 in ./anaconda3/envs/BigData_Nawang/lib/python3.13/site-packages (from matplotlib) (1.4.9)\n",
      "Requirement already satisfied: numpy>=1.23 in ./anaconda3/envs/BigData_Nawang/lib/python3.13/site-packages (from matplotlib) (2.3.3)\n",
      "Requirement already satisfied: packaging>=20.0 in ./anaconda3/envs/BigData_Nawang/lib/python3.13/site-packages (from matplotlib) (25.0)\n",
      "Requirement already satisfied: pillow>=8 in ./anaconda3/envs/BigData_Nawang/lib/python3.13/site-packages (from matplotlib) (12.0.0)\n",
      "Requirement already satisfied: pyparsing>=3 in ./anaconda3/envs/BigData_Nawang/lib/python3.13/site-packages (from matplotlib) (3.2.5)\n",
      "Requirement already satisfied: python-dateutil>=2.7 in ./anaconda3/envs/BigData_Nawang/lib/python3.13/site-packages (from matplotlib) (2.9.0.post0)\n",
      "Requirement already satisfied: pytz>=2020.1 in ./anaconda3/envs/BigData_Nawang/lib/python3.13/site-packages (from pandas) (2025.2)\n",
      "Requirement already satisfied: tzdata>=2022.7 in ./anaconda3/envs/BigData_Nawang/lib/python3.13/site-packages (from pandas) (2025.2)\n",
      "Requirement already satisfied: six>=1.5 in ./anaconda3/envs/BigData_Nawang/lib/python3.13/site-packages (from python-dateutil>=2.7->matplotlib) (1.17.0)\n"
     ]
    }
   ],
   "source": [
    "# Homework\n",
    "!pip install pyspark matplotlib pandas"
   ]
  },
  {
   "cell_type": "code",
   "execution_count": 44,
   "id": "84bb9d15-45d3-47e3-b2c5-d3058f11beed",
   "metadata": {},
   "outputs": [
    {
     "name": "stderr",
     "output_type": "stream",
     "text": [
      "25/10/29 16:26:05 WARN SparkSession: Using an existing Spark session; only runtime SQL configurations will take effect.\n"
     ]
    },
    {
     "name": "stdout",
     "output_type": "stream",
     "text": [
      "=== Data Employees ===\n",
      "+-----+---+------+------+------+\n",
      "| Name|Age|Gender|Salary|DeptId|\n",
      "+-----+---+------+------+------+\n",
      "|James| 34|     M|  3000|     1|\n",
      "| Anna| 28|     F|  4100|     2|\n",
      "|  Lee| 23|     M|  2700|     1|\n",
      "| Sara| 29|     F|  3900|     2|\n",
      "|  Tom| 31|     M|  3500|     3|\n",
      "| John| 28|     M|  4500|     3|\n",
      "| Maya| 34|     F|  5000|     1|\n",
      "|  Lia| 25|     F|  2900|     2|\n",
      "|  Rob| 31|     M|  3700|     3|\n",
      "| Kira| 27|     F|  3400|     1|\n",
      "| Alan| 30|     M|  4200|     4|\n",
      "|Bella| 26|     F|  3800|     4|\n",
      "|Chris| 32|     M|  4100|     5|\n",
      "|Diana| 29|     F|  4000|     5|\n",
      "+-----+---+------+------+------+\n",
      "\n",
      "=== Data Departments ===\n",
      "+------+----------+\n",
      "|DeptId|  DeptName|\n",
      "+------+----------+\n",
      "|     1|        HR|\n",
      "|     2| Marketing|\n",
      "|     3|   Finance|\n",
      "|     4|     Sales|\n",
      "|     5|Operations|\n",
      "+------+----------+\n",
      "\n"
     ]
    }
   ],
   "source": [
    "# Import library\n",
    "from pyspark.sql import SparkSession\n",
    "import matplotlib.pyplot as plt\n",
    "import pandas as pd\n",
    "import random\n",
    "\n",
    "# Inisialisasi spark session\n",
    "spark = SparkSession.builder.appName(\"Homework_Hands-On9\").getOrCreate()\n",
    "\n",
    "# Membuat data\n",
    "employees = spark.createDataFrame([\n",
    "    ('James', 34, 'M', 3000, 1),\n",
    "    ('Anna', 28, 'F', 4100, 2),\n",
    "    ('Lee', 23, 'M', 2700, 1),\n",
    "    ('Sara', 29, 'F', 3900, 2),\n",
    "    ('Tom', 31, 'M', 3500, 3),\n",
    "    ('John', 28, 'M', 4500, 3),\n",
    "    ('Maya', 34, 'F', 5000, 1),\n",
    "    ('Lia', 25, 'F', 2900, 2),\n",
    "    ('Rob', 31, 'M', 3700, 3),\n",
    "    ('Kira', 27, 'F', 3400, 1),\n",
    "    ('Alan', 30, 'M', 4200, 4), \n",
    "    ('Bella', 26, 'F', 3800, 4), \n",
    "    ('Chris', 32, 'M', 4100, 5), \n",
    "    ('Diana', 29, 'F', 4000, 5)\n",
    "], ['Name', 'Age', 'Gender', 'Salary', 'DeptId'])\n",
    "\n",
    "departments = spark.createDataFrame([\n",
    "    (1, 'HR'),\n",
    "    (2, 'Marketing'),\n",
    "    (3, 'Finance'),\n",
    "    (4, 'Sales'),\n",
    "    (5, 'Operations')\n",
    "], ['DeptId', 'DeptName'])\n",
    "\n",
    "# Mendaftarkan tabel temporer\n",
    "employees.createOrReplaceTempView('employees')\n",
    "departments.createOrReplaceTempView('departments')\n",
    "\n",
    "# Cek data\n",
    "print(\"=== Data Employees ===\")\n",
    "employees.show()\n",
    "print(\"=== Data Departments ===\")\n",
    "departments.show()"
   ]
  },
  {
   "cell_type": "code",
   "execution_count": 45,
   "id": "7411a93e-cd14-4bca-b4e1-5f6952a28f02",
   "metadata": {},
   "outputs": [
    {
     "name": "stdout",
     "output_type": "stream",
     "text": [
      "Total Gaji & Jumlah Karyawan per Departemen\n",
      "+----------+-----------+-------------+\n",
      "|  DeptName|TotalSalary|EmployeeCount|\n",
      "+----------+-----------+-------------+\n",
      "|        HR|      14100|            4|\n",
      "|   Finance|      11700|            3|\n",
      "| Marketing|      10900|            3|\n",
      "|Operations|       8100|            2|\n",
      "|     Sales|       8000|            2|\n",
      "+----------+-----------+-------------+\n",
      "\n"
     ]
    },
    {
     "data": {
      "image/png": "[encoded data removed]",
      "text/plain": [
       "<Figure size 800x500 with 1 Axes>"
      ]
     },
     "metadata": {},
     "output_type": "display_data"
    }
   ],
   "source": [
    "# Homework 1\n",
    "dept_summary = spark.sql('''\n",
    "SELECT d.DeptName,\n",
    "       SUM(e.Salary) AS TotalSalary,\n",
    "       COUNT(e.Name) AS EmployeeCount\n",
    "FROM employees e\n",
    "JOIN departments d ON e.DeptId = d.DeptId\n",
    "GROUP BY d.DeptName\n",
    "ORDER BY TotalSalary DESC\n",
    "''')\n",
    "\n",
    "print(\"Total Gaji & Jumlah Karyawan per Departemen\")\n",
    "dept_summary.show()\n",
    "\n",
    "df1 = dept_summary.toPandas()\n",
    "plt.figure(figsize=(8,5))\n",
    "plt.bar(df1['DeptName'], df1['TotalSalary'], color='skyblue')\n",
    "plt.xlabel('Department')\n",
    "plt.ylabel('Total Salary')\n",
    "plt.title('Total Salary per Department')\n",
    "plt.grid(True, linestyle='--', alpha=0.6)\n",
    "plt.show()"
   ]
  },
  {
   "cell_type": "code",
   "execution_count": 46,
   "id": "2621868c-ea16-4afc-a5c1-c06b18ad4dda",
   "metadata": {},
   "outputs": [
    {
     "name": "stdout",
     "output_type": "stream",
     "text": [
      "Karyawan dengan Gaji di Atas Rata-rata Usianya\n",
      "+-----+---+------+\n",
      "| Name|Age|Salary|\n",
      "+-----+---+------+\n",
      "| John| 28|  4500|\n",
      "|Diana| 29|  4000|\n",
      "|  Rob| 31|  3700|\n",
      "| Maya| 34|  5000|\n",
      "+-----+---+------+\n",
      "\n"
     ]
    },
    {
     "data": {
      "image/png": "[encoded data removed]",
      "text/plain": [
       "<Figure size 800x500 with 1 Axes>"
      ]
     },
     "metadata": {},
     "output_type": "display_data"
    }
   ],
   "source": [
    "# Homework 2\n",
    "above_avg_age = spark.sql('''\n",
    "SELECT e.Name, e.Age, e.Salary\n",
    "FROM employees e\n",
    "JOIN (\n",
    "    SELECT Age, AVG(Salary) AS AvgSalary\n",
    "    FROM employees\n",
    "    GROUP BY Age\n",
    ") a ON e.Age = a.Age\n",
    "WHERE e.Salary > a.AvgSalary\n",
    "ORDER BY e.Age\n",
    "''')\n",
    "\n",
    "print(\"Karyawan dengan Gaji di Atas Rata-rata Usianya\")\n",
    "above_avg_age.show()\n",
    "\n",
    "df2 = above_avg_age.toPandas()\n",
    "plt.figure(figsize=(8,5))\n",
    "plt.bar(df2['Name'], df2['Salary'], color='salmon')\n",
    "plt.xticks(rotation=45)\n",
    "plt.xlabel('Employee Name')\n",
    "plt.ylabel('Salary')\n",
    "plt.title('Karyawan dengan Gaji di Atas Rata-rata (Per Usia)')\n",
    "plt.grid(True, linestyle='--', alpha=0.6)\n",
    "plt.show()\n"
   ]
  },
  {
   "cell_type": "code",
   "execution_count": 47,
   "id": "2ad136ac-60da-4e86-af00-8fe9da2525a8",
   "metadata": {},
   "outputs": [
    {
     "name": "stdout",
     "output_type": "stream",
     "text": [
      "Requirement already satisfied: pyspark in ./anaconda3/envs/BigData_Nawang/lib/python3.13/site-packages (4.0.1)\n",
      "Requirement already satisfied: pandas in ./anaconda3/envs/BigData_Nawang/lib/python3.13/site-packages (2.3.3)\n",
      "Requirement already satisfied: matplotlib in ./anaconda3/envs/BigData_Nawang/lib/python3.13/site-packages (3.10.7)\n",
      "Requirement already satisfied: py4j==0.10.9.9 in ./anaconda3/envs/BigData_Nawang/lib/python3.13/site-packages (from pyspark) (0.10.9.9)\n",
      "Requirement already satisfied: numpy>=1.26.0 in ./anaconda3/envs/BigData_Nawang/lib/python3.13/site-packages (from pandas) (2.3.3)\n",
      "Requirement already satisfied: python-dateutil>=2.8.2 in ./anaconda3/envs/BigData_Nawang/lib/python3.13/site-packages (from pandas) (2.9.0.post0)\n",
      "Requirement already satisfied: pytz>=2020.1 in ./anaconda3/envs/BigData_Nawang/lib/python3.13/site-packages (from pandas) (2025.2)\n",
      "Requirement already satisfied: tzdata>=2022.7 in ./anaconda3/envs/BigData_Nawang/lib/python3.13/site-packages (from pandas) (2025.2)\n",
      "Requirement already satisfied: contourpy>=1.0.1 in ./anaconda3/envs/BigData_Nawang/lib/python3.13/site-packages (from matplotlib) (1.3.3)\n",
      "Requirement already satisfied: cycler>=0.10 in ./anaconda3/envs/BigData_Nawang/lib/python3.13/site-packages (from matplotlib) (0.12.1)\n",
      "Requirement already satisfied: fonttools>=4.22.0 in ./anaconda3/envs/BigData_Nawang/lib/python3.13/site-packages (from matplotlib) (4.60.1)\n",
      "Requirement already satisfied: kiwisolver>=1.3.1 in ./anaconda3/envs/BigData_Nawang/lib/python3.13/site-packages (from matplotlib) (1.4.9)\n",
      "Requirement already satisfied: packaging>=20.0 in ./anaconda3/envs/BigData_Nawang/lib/python3.13/site-packages (from matplotlib) (25.0)\n",
      "Requirement already satisfied: pillow>=8 in ./anaconda3/envs/BigData_Nawang/lib/python3.13/site-packages (from matplotlib) (12.0.0)\n",
      "Requirement already satisfied: pyparsing>=3 in ./anaconda3/envs/BigData_Nawang/lib/python3.13/site-packages (from matplotlib) (3.2.5)\n",
      "Requirement already satisfied: six>=1.5 in ./anaconda3/envs/BigData_Nawang/lib/python3.13/site-packages (from python-dateutil>=2.8.2->pandas) (1.17.0)\n"
     ]
    }
   ],
   "source": [
    "# Homework 3\n",
    "!pip install pyspark pandas matplotlib"
   ]
  },
  {
   "cell_type": "code",
   "execution_count": 48,
   "id": "ed348471-54ef-44ba-bc0c-6aa2765a572f",
   "metadata": {},
   "outputs": [
    {
     "name": "stdout",
     "output_type": "stream",
     "text": [
      "Data 15 baris dari employees_big:\n",
      "+--------+---+------+------+------+\n",
      "|Name    |Age|Gender|Salary|DeptId|\n",
      "+--------+---+------+------+------+\n",
      "|Vina_1  |29 |M     |6256  |6     |\n",
      "|Hadi_2  |30 |M     |7823  |6     |\n",
      "|Tono_3  |49 |M     |3267  |1     |\n",
      "|Gita_4  |36 |M     |4128  |5     |\n",
      "|Xena_5  |48 |M     |4778  |4     |\n",
      "|Aditya_6|32 |F     |5912  |3     |\n",
      "|Gita_7  |43 |M     |5612  |1     |\n",
      "|Deka_8  |44 |F     |4666  |5     |\n",
      "|Bima_9  |51 |M     |3145  |4     |\n",
      "|Sari_10 |40 |F     |4075  |5     |\n",
      "|Xena_11 |26 |M     |6051  |6     |\n",
      "|Citra_12|36 |M     |4777  |4     |\n",
      "|Oki_13  |45 |M     |6768  |3     |\n",
      "|Wido_14 |39 |M     |3901  |5     |\n",
      "|Sari_15 |37 |M     |5608  |4     |\n",
      "+--------+---+------+------+------+\n",
      "only showing top 15 rows\n"
     ]
    },
    {
     "name": "stderr",
     "output_type": "stream",
     "text": [
      "25/10/29 16:26:08 WARN SparkSession: Using an existing Spark session; only runtime SQL configurations will take effect.\n"
     ]
    }
   ],
   "source": [
    "# Import Library\n",
    "from pyspark.sql import SparkSession\n",
    "import pyspark.sql.functions as F\n",
    "import matplotlib.pyplot as plt\n",
    "import pandas as pd\n",
    "import random\n",
    "import os\n",
    "\n",
    "# Inisialisasi Spark\n",
    "spark = SparkSession.builder.appName(\"Homework_3\").getOrCreate()\n",
    "\n",
    "# Membuat tabel depatment dan project\n",
    "departments = spark.createDataFrame([\n",
    "    (1, 'HR'),\n",
    "    (2, 'Marketing'),\n",
    "    (3, 'Finance'),\n",
    "    (4, 'Sales'),\n",
    "    (5, 'Operations'),\n",
    "    (6, 'IT')\n",
    "], ['DeptId', 'DeptName'])\n",
    "departments.createOrReplaceTempView('departments')\n",
    "\n",
    "projects = spark.createDataFrame([\n",
    "    (1, 'Talent Acquisition'),\n",
    "    (1, 'HRIS Migration'),\n",
    "    (2, 'Brand Campaign'),\n",
    "    (2, 'Social Media Growth'),\n",
    "    (3, 'Audit 2025'),\n",
    "    (4, 'Retail Expansion'),\n",
    "    (5, 'Logistics Optimization'),\n",
    "    (6, 'Platform Upgrade'),\n",
    "    (6, 'Security Hardening')\n",
    "], ['DeptId', 'ProjectName'])\n",
    "projects.createOrReplaceTempView('projects')\n",
    "\n",
    "# Membuat employees besar\n",
    "random.seed(42)\n",
    "names = ['Aditya','Bima','Citra','Deka','Eka','Fajar','Gita','Hadi','Ika','Joko',\n",
    "         'Kiki','Lina','Mira','Nico','Oki','Putu','Rina','Sari','Tono','Ucup',\n",
    "         'Vina','Wido','Xena','Yudha','Zara']\n",
    "genders = ['M','F']\n",
    "dept_ids = [1,2,3,4,5,6]\n",
    "\n",
    "big_data = []\n",
    "for i in range(1, 151): \n",
    "    name = random.choice(names) + f\"_{i}\"\n",
    "    age = random.randint(22, 55)\n",
    "    gender = random.choice(genders)\n",
    "    dept = random.choice(dept_ids)\n",
    "    base = random.randint(2500, 7000)\n",
    "    if dept in (3,6): \n",
    "        salary = base + random.randint(500, 3000)\n",
    "    else:\n",
    "        salary = base\n",
    "    big_data.append((name, age, gender, int(salary), int(dept)))\n",
    "\n",
    "employees_big = spark.createDataFrame(big_data, ['Name','Age','Gender','Salary','DeptId'])\n",
    "employees_big.createOrReplaceTempView('employees_big')\n",
    "\n",
    "# Menampilkan data dalam jumlah tertentu\n",
    "print(\"Data 15 baris dari employees_big:\")\n",
    "employees_big.show(15, truncate=False)"
   ]
  },
  {
   "cell_type": "code",
   "execution_count": 49,
   "id": "433c416a-ed83-4b62-9852-a5844e3ff35c",
   "metadata": {},
   "outputs": [
    {
     "name": "stdout",
     "output_type": "stream",
     "text": [
      "TOTAL GAJI PER DEPARTEMEN\n",
      "+----------+-----------+\n",
      "|DeptName  |TotalSalary|\n",
      "+----------+-----------+\n",
      "|IT        |175129     |\n",
      "|Finance   |173388     |\n",
      "|Sales     |135706     |\n",
      "|HR        |124283     |\n",
      "|Operations|123333     |\n",
      "|Marketing |83966      |\n",
      "+----------+-----------+\n",
      "\n"
     ]
    }
   ],
   "source": [
    "sum_salary = spark.sql('''\n",
    "SELECT d.DeptName, SUM(e.Salary) AS TotalSalary\n",
    "FROM employees_big e\n",
    "JOIN departments d ON e.DeptId = d.DeptId\n",
    "GROUP BY d.DeptName\n",
    "ORDER BY TotalSalary DESC\n",
    "''')\n",
    "print(\"TOTAL GAJI PER DEPARTEMEN\")\n",
    "sum_salary.show(truncate=False)"
   ]
  },
  {
   "cell_type": "code",
   "execution_count": 50,
   "id": "aaaa7908-3b58-4a99-9921-1d7c042bb300",
   "metadata": {},
   "outputs": [
    {
     "name": "stdout",
     "output_type": "stream",
     "text": [
      "RATA-RATA GAJI PER DEPARTEMEN\n",
      "+----------+---------+\n",
      "|DeptName  |AvgSalary|\n",
      "+----------+---------+\n",
      "|IT        |6735.73  |\n",
      "|Finance   |6421.78  |\n",
      "|Marketing |5247.88  |\n",
      "|Operations|4933.32  |\n",
      "|Sales     |4679.52  |\n",
      "|HR        |4603.07  |\n",
      "+----------+---------+\n",
      "\n"
     ]
    }
   ],
   "source": [
    "avg_salary = spark.sql('''\n",
    "SELECT d.DeptName, ROUND(AVG(e.Salary),2) AS AvgSalary\n",
    "FROM employees_big e\n",
    "JOIN departments d ON e.DeptId = d.DeptId\n",
    "GROUP BY d.DeptName\n",
    "ORDER BY AvgSalary DESC\n",
    "''')\n",
    "print(\"RATA-RATA GAJI PER DEPARTEMEN\")\n",
    "avg_salary.show(truncate=False)"
   ]
  },
  {
   "cell_type": "code",
   "execution_count": 51,
   "id": "b8192c3f-e0da-4991-ab01-a2eae58a5c4d",
   "metadata": {},
   "outputs": [
    {
     "name": "stdout",
     "output_type": "stream",
     "text": [
      "JUMLAH KARYAWAN PER DEPARTEMEN\n",
      "+----------+-------------+\n",
      "|DeptName  |EmployeeCount|\n",
      "+----------+-------------+\n",
      "|Sales     |29           |\n",
      "|HR        |27           |\n",
      "|Finance   |27           |\n",
      "|IT        |26           |\n",
      "|Operations|25           |\n",
      "|Marketing |16           |\n",
      "+----------+-------------+\n",
      "\n"
     ]
    }
   ],
   "source": [
    "count_emp = spark.sql('''\n",
    "SELECT d.DeptName, COUNT(e.Name) AS EmployeeCount\n",
    "FROM employees_big e\n",
    "JOIN departments d ON e.DeptId = d.DeptId\n",
    "GROUP BY d.DeptName\n",
    "ORDER BY EmployeeCount DESC\n",
    "''')\n",
    "print(\"JUMLAH KARYAWAN PER DEPARTEMEN\")\n",
    "count_emp.show(truncate=False)"
   ]
  },
  {
   "cell_type": "code",
   "execution_count": 52,
   "id": "c631c06f-17b1-4286-a115-f2679d3f1ebd",
   "metadata": {},
   "outputs": [
    {
     "name": "stdout",
     "output_type": "stream",
     "text": [
      "GABUNGAN DATA EMPLOYEES DENGAN DEPARTEMEN\n",
      "+---------+---+------+------+--------+\n",
      "|Name     |Age|Gender|Salary|DeptName|\n",
      "+---------+---+------+------+--------+\n",
      "|Aditya_6 |32 |F     |5912  |Finance |\n",
      "|Aditya_81|55 |M     |6819  |Finance |\n",
      "|Bima_112 |38 |F     |6595  |Finance |\n",
      "|Bima_17  |42 |F     |4406  |Finance |\n",
      "|Citra_60 |37 |F     |6086  |Finance |\n",
      "|Deka_80  |46 |M     |5149  |Finance |\n",
      "|Eka_69   |24 |F     |4791  |Finance |\n",
      "|Gita_118 |51 |F     |6855  |Finance |\n",
      "|Gita_70  |37 |M     |6962  |Finance |\n",
      "|Hadi_38  |26 |M     |5685  |Finance |\n",
      "|Hadi_74  |34 |F     |6432  |Finance |\n",
      "|Ika_76   |26 |F     |8810  |Finance |\n",
      "|Joko_141 |28 |M     |6341  |Finance |\n",
      "|Kiki_113 |43 |F     |7486  |Finance |\n",
      "|Kiki_128 |37 |M     |7690  |Finance |\n",
      "+---------+---+------+------+--------+\n",
      "\n"
     ]
    }
   ],
   "source": [
    "join_table = spark.sql('''\n",
    "SELECT e.Name, e.Age, e.Gender, e.Salary, d.DeptName\n",
    "FROM employees_big e\n",
    "JOIN departments d ON e.DeptId = d.DeptId\n",
    "ORDER BY d.DeptName, e.Name\n",
    "LIMIT 15\n",
    "''')\n",
    "print(\"GABUNGAN DATA EMPLOYEES DENGAN DEPARTEMEN\")\n",
    "join_table.show(truncate=False)"
   ]
  },
  {
   "cell_type": "code",
   "execution_count": null,
   "id": "2af9d565-c7cf-41f0-9db5-d675f387d3dd",
   "metadata": {},
   "outputs": [],
   "source": []
  }
 ],
 "metadata": {
  "kernelspec": {
   "display_name": "Python 3 (ipykernel)",
   "language": "python",
   "name": "python3"
  },
  "language_info": {
   "codemirror_mode": {
    "name": "ipython",
    "version": 3
   },
   "file_extension": ".py",
   "mimetype": "text/x-python",
   "name": "python",
   "nbconvert_exporter": "python",
   "pygments_lexer": "ipython3",
   "version": "3.13.9"
  }
 },
 "nbformat": 4,
 "nbformat_minor": 5
}
