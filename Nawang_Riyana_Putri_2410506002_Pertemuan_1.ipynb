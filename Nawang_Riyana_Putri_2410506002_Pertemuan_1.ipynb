{
  "nbformat": 4,
  "nbformat_minor": 0,
  "metadata": {
    "colab": {
      "provenance": []
    },
    "kernelspec": {
      "name": "python3",
      "display_name": "Python 3"
    },
    "language_info": {
      "name": "python"
    }
  },
  "cells": [
    {
      "cell_type": "code",
      "execution_count": null,
      "metadata": {
        "id": "b5B7J4KajNjI",
        "colab": {
          "base_uri": "https://localhost:8080/"
        },
        "outputId": "ae91e218-c6b4-424d-b1fa-682e39a3bd99"
      },
      "outputs": [
        {
          "output_type": "stream",
          "name": "stdout",
          "text": [
            "+-----+----+\n",
            "| Nama|Usia|\n",
            "+-----+----+\n",
            "|  Ali|  34|\n",
            "| Budi|  23|\n",
            "|Citra|  29|\n",
            "| Dina|  45|\n",
            "+-----+----+\n",
            "\n"
          ]
        }
      ],
      "source": [
        "from pyspark.sql import SparkSession\n",
        "\n",
        "# Memulai Spark session\n",
        "spark = SparkSession.builder.appName(\"BigDataPractice\").getOrCreate()\n",
        "\n",
        "# Membuat DataFrame sederhana\n",
        "data = [(\"Ali\", 34), (\"Budi\", 23), (\"Citra\", 29), (\"Dina\", 45)]\n",
        "columns = [\"Nama\", \"Usia\"]\n",
        "df = spark.createDataFrame(data, columns)\n",
        "\n",
        "# Menampilkan DataFrame\n",
        "df.show()"
      ]
    },
    {
      "cell_type": "code",
      "source": [
        "# Tugas 1\n",
        "from pyspark.sql import SparkSession\n",
        "\n",
        "# Memulai Spark session\n",
        "spark = SparkSession.builder.appName(\"BigDataPractice\").getOrCreate()\n",
        "\n",
        "# Membuat DataFrame sederhana\n",
        "data = [(\"Ali\", 34, \"Polisi\", \"Traveling\", \"Laki-laki\"), (\"Budi\", 23, \"Arkeolog\", \"Fotografi\", \"Laki-laki\"), (\"Citra\", 29, \"Repotrer\", \"Membaca\", \"Perempuan\"), (\"Dina\", 45, \"Pengacara\", \"Memasak\", \"Perempuan\")]\n",
        "columns = [\"Nama\", \"Usia\", \"Pekerjaan\", \"Hobi\", \"Gender\"]\n",
        "df = spark.createDataFrame(data, columns)\n",
        "\n",
        "# Menampilkan DataFrame\n",
        "df.show()"
      ],
      "metadata": {
        "colab": {
          "base_uri": "https://localhost:8080/"
        },
        "id": "6zB5Cyxe3h_k",
        "outputId": "61187a9b-76dd-4c90-b234-0e6e58d4163b"
      },
      "execution_count": null,
      "outputs": [
        {
          "output_type": "stream",
          "name": "stdout",
          "text": [
            "+-----+----+---------+---------+---------+\n",
            "| Nama|Usia|Pekerjaan|     Hobi|   Gender|\n",
            "+-----+----+---------+---------+---------+\n",
            "|  Ali|  34|   Polisi|Traveling|Laki-laki|\n",
            "| Budi|  23| Arkeolog|Fotografi|Laki-laki|\n",
            "|Citra|  29| Repotrer|  Membaca|Perempuan|\n",
            "| Dina|  45|Pengacara|  Memasak|Perempuan|\n",
            "+-----+----+---------+---------+---------+\n",
            "\n"
          ]
        }
      ]
    },
    {
      "cell_type": "code",
      "source": [
        "from pyspark.sql import SparkSession\n",
        "\n",
        "# Memulai Spark session\n",
        "spark = SparkSession.builder.appName(\"BigDataPractice\").getOrCreate()\n",
        "\n",
        "# Membuat DataFrame sederhana\n",
        "data = [(\"Ali\", 34), (\"Budi\", 23), (\"Citra\", 29), (\"Dina\", 45)]\n",
        "columns = [\"Nama\", \"Usia\"]\n",
        "df = spark.createDataFrame(data, columns)\n",
        "\n",
        "# Menampilkan DataFrame\n",
        "df.show()\n",
        "\n",
        "# Filtering data\n",
        "df_filtered = df.filter(df['Usia'] > 30)\n",
        "df_filtered.show()\n",
        "\n",
        "# Menghitung rata-rata usia\n",
        "from pyspark.sql.functions import avg\n",
        "df.groupBy().agg(avg(\"Usia\")).show()\n",
        "\n",
        "# Mengurutkan data berdasarkan usia\n",
        "df_sorted = df.orderBy(\"Usia\", ascending=False)\n",
        "df_sorted.show()"
      ],
      "metadata": {
        "colab": {
          "base_uri": "https://localhost:8080/"
        },
        "id": "qBwHyWs05ABP",
        "outputId": "f264ee23-a1be-418d-a88f-52668bec11f7"
      },
      "execution_count": null,
      "outputs": [
        {
          "output_type": "stream",
          "name": "stdout",
          "text": [
            "+-----+----+\n",
            "| Nama|Usia|\n",
            "+-----+----+\n",
            "|  Ali|  34|\n",
            "| Budi|  23|\n",
            "|Citra|  29|\n",
            "| Dina|  45|\n",
            "+-----+----+\n",
            "\n",
            "+----+----+\n",
            "|Nama|Usia|\n",
            "+----+----+\n",
            "| Ali|  34|\n",
            "|Dina|  45|\n",
            "+----+----+\n",
            "\n",
            "+---------+\n",
            "|avg(Usia)|\n",
            "+---------+\n",
            "|    32.75|\n",
            "+---------+\n",
            "\n",
            "+-----+----+\n",
            "| Nama|Usia|\n",
            "+-----+----+\n",
            "| Dina|  45|\n",
            "|  Ali|  34|\n",
            "|Citra|  29|\n",
            "| Budi|  23|\n",
            "+-----+----+\n",
            "\n"
          ]
        }
      ]
    },
    {
      "cell_type": "code",
      "source": [
        "# Tugas 2\n",
        "from pyspark.sql import SparkSession\n",
        "\n",
        "# Memulai Spark session\n",
        "spark = SparkSession.builder.appName(\"BigDataPractice\").getOrCreate()\n",
        "\n",
        "# Membuat DataFrame sederhana\n",
        "data = [(\"Ali\", 34), (\"Budi\", 23), (\"Citra\", 29), (\"Dina\", 45)]\n",
        "columns = [\"Nama\", \"Usia\"]\n",
        "df = spark.createDataFrame(data, columns)\n",
        "\n",
        "# Menampilkan DataFrame\n",
        "df.show()\n",
        "\n",
        "# Filtering data\n",
        "df_filtered = df.filter(df['Usia'] > 20)\n",
        "df_filtered.show()\n",
        "\n",
        "# Menghitung rata-rata usia\n",
        "from pyspark.sql.functions import avg\n",
        "df.groupBy().agg(avg(\"Usia\")).show()\n",
        "\n",
        "# Mengurutkan data berdasarkan usia\n",
        "df_sorted = df.orderBy(\"Usia\", ascending=True)\n",
        "df_sorted.show()"
      ],
      "metadata": {
        "colab": {
          "base_uri": "https://localhost:8080/"
        },
        "id": "M-I8K33I5HCM",
        "outputId": "e1883dbe-9c04-4881-9dfe-9ebb7976cebf"
      },
      "execution_count": null,
      "outputs": [
        {
          "output_type": "stream",
          "name": "stdout",
          "text": [
            "+-----+----+\n",
            "| Nama|Usia|\n",
            "+-----+----+\n",
            "|  Ali|  34|\n",
            "| Budi|  23|\n",
            "|Citra|  29|\n",
            "| Dina|  45|\n",
            "+-----+----+\n",
            "\n",
            "+-----+----+\n",
            "| Nama|Usia|\n",
            "+-----+----+\n",
            "|  Ali|  34|\n",
            "| Budi|  23|\n",
            "|Citra|  29|\n",
            "| Dina|  45|\n",
            "+-----+----+\n",
            "\n",
            "+---------+\n",
            "|avg(Usia)|\n",
            "+---------+\n",
            "|    32.75|\n",
            "+---------+\n",
            "\n",
            "+-----+----+\n",
            "| Nama|Usia|\n",
            "+-----+----+\n",
            "| Budi|  23|\n",
            "|Citra|  29|\n",
            "|  Ali|  34|\n",
            "| Dina|  45|\n",
            "+-----+----+\n",
            "\n"
          ]
        }
      ]
    },
    {
      "cell_type": "code",
      "source": [
        "import pandas as pd\n",
        "\n",
        "# Membuat DataFrame Pandas\n",
        "data_pandas = {\"Nama\": [\"Ali\", \"Budi\", \"Citra\", \"Dina\"], \"Usia\": [34, 23, 29, 45]}\n",
        "df_pandas = pd.DataFrame(data_pandas)\n",
        "\n",
        "# Menampilkan DataFrame Pandas\n",
        "df_pandas"
      ],
      "metadata": {
        "colab": {
          "base_uri": "https://localhost:8080/",
          "height": 175
        },
        "id": "YWaI3PHh647B",
        "outputId": "42c25cb0-9444-402b-d2d5-8b0585da49d7"
      },
      "execution_count": null,
      "outputs": [
        {
          "output_type": "execute_result",
          "data": {
            "text/plain": [
              "    Nama  Usia\n",
              "0    Ali    34\n",
              "1   Budi    23\n",
              "2  Citra    29\n",
              "3   Dina    45"
            ],
            "text/html": [
              "\n",
              "  <div id=\"df-aa038557-9a0a-4b84-a8c4-a0001974fe00\" class=\"colab-df-container\">\n",
              "    <div>\n",
              "<style scoped>\n",
              "    .dataframe tbody tr th:only-of-type {\n",
              "        vertical-align: middle;\n",
              "    }\n",
              "\n",
              "    .dataframe tbody tr th {\n",
              "        vertical-align: top;\n",
              "    }\n",
              "\n",
              "    .dataframe thead th {\n",
              "        text-align: right;\n",
              "    }\n",
              "</style>\n",
              "<table border=\"1\" class=\"dataframe\">\n",
              "  <thead>\n",
              "    <tr style=\"text-align: right;\">\n",
              "      <th></th>\n",
              "      <th>Nama</th>\n",
              "      <th>Usia</th>\n",
              "    </tr>\n",
              "  </thead>\n",
              "  <tbody>\n",
              "    <tr>\n",
              "      <th>0</th>\n",
              "      <td>Ali</td>\n",
              "      <td>34</td>\n",
              "    </tr>\n",
              "    <tr>\n",
              "      <th>1</th>\n",
              "      <td>Budi</td>\n",
              "      <td>23</td>\n",
              "    </tr>\n",
              "    <tr>\n",
              "      <th>2</th>\n",
              "      <td>Citra</td>\n",
              "      <td>29</td>\n",
              "    </tr>\n",
              "    <tr>\n",
              "      <th>3</th>\n",
              "      <td>Dina</td>\n",
              "      <td>45</td>\n",
              "    </tr>\n",
              "  </tbody>\n",
              "</table>\n",
              "</div>\n",
              "    <div class=\"colab-df-buttons\">\n",
              "\n",
              "  <div class=\"colab-df-container\">\n",
              "    <button class=\"colab-df-convert\" onclick=\"convertToInteractive('df-aa038557-9a0a-4b84-a8c4-a0001974fe00')\"\n",
              "            title=\"Convert this dataframe to an interactive table.\"\n",
              "            style=\"display:none;\">\n",
              "\n",
              "  <svg xmlns=\"http://www.w3.org/2000/svg\" height=\"24px\" viewBox=\"0 -960 960 960\">\n",
              "    <path d=\"M120-120v-720h720v720H120Zm60-500h600v-160H180v160Zm220 220h160v-160H400v160Zm0 220h160v-160H400v160ZM180-400h160v-160H180v160Zm440 0h160v-160H620v160ZM180-180h160v-160H180v160Zm440 0h160v-160H620v160Z\"/>\n",
              "  </svg>\n",
              "    </button>\n",
              "\n",
              "  <style>\n",
              "    .colab-df-container {\n",
              "      display:flex;\n",
              "      gap: 12px;\n",
              "    }\n",
              "\n",
              "    .colab-df-convert {\n",
              "      background-color: #E8F0FE;\n",
              "      border: none;\n",
              "      border-radius: 50%;\n",
              "      cursor: pointer;\n",
              "      display: none;\n",
              "      fill: #1967D2;\n",
              "      height: 32px;\n",
              "      padding: 0 0 0 0;\n",
              "      width: 32px;\n",
              "    }\n",
              "\n",
              "    .colab-df-convert:hover {\n",
              "      background-color: #E2EBFA;\n",
              "      box-shadow: 0px 1px 2px rgba(60, 64, 67, 0.3), 0px 1px 3px 1px rgba(60, 64, 67, 0.15);\n",
              "      fill: #174EA6;\n",
              "    }\n",
              "\n",
              "    .colab-df-buttons div {\n",
              "      margin-bottom: 4px;\n",
              "    }\n",
              "\n",
              "    [theme=dark] .colab-df-convert {\n",
              "      background-color: #3B4455;\n",
              "      fill: #D2E3FC;\n",
              "    }\n",
              "\n",
              "    [theme=dark] .colab-df-convert:hover {\n",
              "      background-color: #434B5C;\n",
              "      box-shadow: 0px 1px 3px 1px rgba(0, 0, 0, 0.15);\n",
              "      filter: drop-shadow(0px 1px 2px rgba(0, 0, 0, 0.3));\n",
              "      fill: #FFFFFF;\n",
              "    }\n",
              "  </style>\n",
              "\n",
              "    <script>\n",
              "      const buttonEl =\n",
              "        document.querySelector('#df-aa038557-9a0a-4b84-a8c4-a0001974fe00 button.colab-df-convert');\n",
              "      buttonEl.style.display =\n",
              "        google.colab.kernel.accessAllowed ? 'block' : 'none';\n",
              "\n",
              "      async function convertToInteractive(key) {\n",
              "        const element = document.querySelector('#df-aa038557-9a0a-4b84-a8c4-a0001974fe00');\n",
              "        const dataTable =\n",
              "          await google.colab.kernel.invokeFunction('convertToInteractive',\n",
              "                                                    [key], {});\n",
              "        if (!dataTable) return;\n",
              "\n",
              "        const docLinkHtml = 'Like what you see? Visit the ' +\n",
              "          '<a target=\"_blank\" href=https://colab.research.google.com/notebooks/data_table.ipynb>data table notebook</a>'\n",
              "          + ' to learn more about interactive tables.';\n",
              "        element.innerHTML = '';\n",
              "        dataTable['output_type'] = 'display_data';\n",
              "        await google.colab.output.renderOutput(dataTable, element);\n",
              "        const docLink = document.createElement('div');\n",
              "        docLink.innerHTML = docLinkHtml;\n",
              "        element.appendChild(docLink);\n",
              "      }\n",
              "    </script>\n",
              "  </div>\n",
              "\n",
              "\n",
              "    <div id=\"df-fa0740c7-aa88-48d2-891e-586f52e989b9\">\n",
              "      <button class=\"colab-df-quickchart\" onclick=\"quickchart('df-fa0740c7-aa88-48d2-891e-586f52e989b9')\"\n",
              "                title=\"Suggest charts\"\n",
              "                style=\"display:none;\">\n",
              "\n",
              "<svg xmlns=\"http://www.w3.org/2000/svg\" height=\"24px\"viewBox=\"0 0 24 24\"\n",
              "     width=\"24px\">\n",
              "    <g>\n",
              "        <path d=\"M19 3H5c-1.1 0-2 .9-2 2v14c0 1.1.9 2 2 2h14c1.1 0 2-.9 2-2V5c0-1.1-.9-2-2-2zM9 17H7v-7h2v7zm4 0h-2V7h2v10zm4 0h-2v-4h2v4z\"/>\n",
              "    </g>\n",
              "</svg>\n",
              "      </button>\n",
              "\n",
              "<style>\n",
              "  .colab-df-quickchart {\n",
              "      --bg-color: #E8F0FE;\n",
              "      --fill-color: #1967D2;\n",
              "      --hover-bg-color: #E2EBFA;\n",
              "      --hover-fill-color: #174EA6;\n",
              "      --disabled-fill-color: #AAA;\n",
              "      --disabled-bg-color: #DDD;\n",
              "  }\n",
              "\n",
              "  [theme=dark] .colab-df-quickchart {\n",
              "      --bg-color: #3B4455;\n",
              "      --fill-color: #D2E3FC;\n",
              "      --hover-bg-color: #434B5C;\n",
              "      --hover-fill-color: #FFFFFF;\n",
              "      --disabled-bg-color: #3B4455;\n",
              "      --disabled-fill-color: #666;\n",
              "  }\n",
              "\n",
              "  .colab-df-quickchart {\n",
              "    background-color: var(--bg-color);\n",
              "    border: none;\n",
              "    border-radius: 50%;\n",
              "    cursor: pointer;\n",
              "    display: none;\n",
              "    fill: var(--fill-color);\n",
              "    height: 32px;\n",
              "    padding: 0;\n",
              "    width: 32px;\n",
              "  }\n",
              "\n",
              "  .colab-df-quickchart:hover {\n",
              "    background-color: var(--hover-bg-color);\n",
              "    box-shadow: 0 1px 2px rgba(60, 64, 67, 0.3), 0 1px 3px 1px rgba(60, 64, 67, 0.15);\n",
              "    fill: var(--button-hover-fill-color);\n",
              "  }\n",
              "\n",
              "  .colab-df-quickchart-complete:disabled,\n",
              "  .colab-df-quickchart-complete:disabled:hover {\n",
              "    background-color: var(--disabled-bg-color);\n",
              "    fill: var(--disabled-fill-color);\n",
              "    box-shadow: none;\n",
              "  }\n",
              "\n",
              "  .colab-df-spinner {\n",
              "    border: 2px solid var(--fill-color);\n",
              "    border-color: transparent;\n",
              "    border-bottom-color: var(--fill-color);\n",
              "    animation:\n",
              "      spin 1s steps(1) infinite;\n",
              "  }\n",
              "\n",
              "  @keyframes spin {\n",
              "    0% {\n",
              "      border-color: transparent;\n",
              "      border-bottom-color: var(--fill-color);\n",
              "      border-left-color: var(--fill-color);\n",
              "    }\n",
              "    20% {\n",
              "      border-color: transparent;\n",
              "      border-left-color: var(--fill-color);\n",
              "      border-top-color: var(--fill-color);\n",
              "    }\n",
              "    30% {\n",
              "      border-color: transparent;\n",
              "      border-left-color: var(--fill-color);\n",
              "      border-top-color: var(--fill-color);\n",
              "      border-right-color: var(--fill-color);\n",
              "    }\n",
              "    40% {\n",
              "      border-color: transparent;\n",
              "      border-right-color: var(--fill-color);\n",
              "      border-top-color: var(--fill-color);\n",
              "    }\n",
              "    60% {\n",
              "      border-color: transparent;\n",
              "      border-right-color: var(--fill-color);\n",
              "    }\n",
              "    80% {\n",
              "      border-color: transparent;\n",
              "      border-right-color: var(--fill-color);\n",
              "      border-bottom-color: var(--fill-color);\n",
              "    }\n",
              "    90% {\n",
              "      border-color: transparent;\n",
              "      border-bottom-color: var(--fill-color);\n",
              "    }\n",
              "  }\n",
              "</style>\n",
              "\n",
              "      <script>\n",
              "        async function quickchart(key) {\n",
              "          const quickchartButtonEl =\n",
              "            document.querySelector('#' + key + ' button');\n",
              "          quickchartButtonEl.disabled = true;  // To prevent multiple clicks.\n",
              "          quickchartButtonEl.classList.add('colab-df-spinner');\n",
              "          try {\n",
              "            const charts = await google.colab.kernel.invokeFunction(\n",
              "                'suggestCharts', [key], {});\n",
              "          } catch (error) {\n",
              "            console.error('Error during call to suggestCharts:', error);\n",
              "          }\n",
              "          quickchartButtonEl.classList.remove('colab-df-spinner');\n",
              "          quickchartButtonEl.classList.add('colab-df-quickchart-complete');\n",
              "        }\n",
              "        (() => {\n",
              "          let quickchartButtonEl =\n",
              "            document.querySelector('#df-fa0740c7-aa88-48d2-891e-586f52e989b9 button');\n",
              "          quickchartButtonEl.style.display =\n",
              "            google.colab.kernel.accessAllowed ? 'block' : 'none';\n",
              "        })();\n",
              "      </script>\n",
              "    </div>\n",
              "\n",
              "  <div id=\"id_40365d03-c257-45d7-b3c9-150d8710f05a\">\n",
              "    <style>\n",
              "      .colab-df-generate {\n",
              "        background-color: #E8F0FE;\n",
              "        border: none;\n",
              "        border-radius: 50%;\n",
              "        cursor: pointer;\n",
              "        display: none;\n",
              "        fill: #1967D2;\n",
              "        height: 32px;\n",
              "        padding: 0 0 0 0;\n",
              "        width: 32px;\n",
              "      }\n",
              "\n",
              "      .colab-df-generate:hover {\n",
              "        background-color: #E2EBFA;\n",
              "        box-shadow: 0px 1px 2px rgba(60, 64, 67, 0.3), 0px 1px 3px 1px rgba(60, 64, 67, 0.15);\n",
              "        fill: #174EA6;\n",
              "      }\n",
              "\n",
              "      [theme=dark] .colab-df-generate {\n",
              "        background-color: #3B4455;\n",
              "        fill: #D2E3FC;\n",
              "      }\n",
              "\n",
              "      [theme=dark] .colab-df-generate:hover {\n",
              "        background-color: #434B5C;\n",
              "        box-shadow: 0px 1px 3px 1px rgba(0, 0, 0, 0.15);\n",
              "        filter: drop-shadow(0px 1px 2px rgba(0, 0, 0, 0.3));\n",
              "        fill: #FFFFFF;\n",
              "      }\n",
              "    </style>\n",
              "    <button class=\"colab-df-generate\" onclick=\"generateWithVariable('df_pandas')\"\n",
              "            title=\"Generate code using this dataframe.\"\n",
              "            style=\"display:none;\">\n",
              "\n",
              "  <svg xmlns=\"http://www.w3.org/2000/svg\" height=\"24px\"viewBox=\"0 0 24 24\"\n",
              "       width=\"24px\">\n",
              "    <path d=\"M7,19H8.4L18.45,9,17,7.55,7,17.6ZM5,21V16.75L18.45,3.32a2,2,0,0,1,2.83,0l1.4,1.43a1.91,1.91,0,0,1,.58,1.4,1.91,1.91,0,0,1-.58,1.4L9.25,21ZM18.45,9,17,7.55Zm-12,3A5.31,5.31,0,0,0,4.9,8.1,5.31,5.31,0,0,0,1,6.5,5.31,5.31,0,0,0,4.9,4.9,5.31,5.31,0,0,0,6.5,1,5.31,5.31,0,0,0,8.1,4.9,5.31,5.31,0,0,0,12,6.5,5.46,5.46,0,0,0,6.5,12Z\"/>\n",
              "  </svg>\n",
              "    </button>\n",
              "    <script>\n",
              "      (() => {\n",
              "      const buttonEl =\n",
              "        document.querySelector('#id_40365d03-c257-45d7-b3c9-150d8710f05a button.colab-df-generate');\n",
              "      buttonEl.style.display =\n",
              "        google.colab.kernel.accessAllowed ? 'block' : 'none';\n",
              "\n",
              "      buttonEl.onclick = () => {\n",
              "        google.colab.notebook.generateWithVariable('df_pandas');\n",
              "      }\n",
              "      })();\n",
              "    </script>\n",
              "  </div>\n",
              "\n",
              "    </div>\n",
              "  </div>\n"
            ],
            "application/vnd.google.colaboratory.intrinsic+json": {
              "type": "dataframe",
              "variable_name": "df_pandas",
              "summary": "{\n  \"name\": \"df_pandas\",\n  \"rows\": 4,\n  \"fields\": [\n    {\n      \"column\": \"Nama\",\n      \"properties\": {\n        \"dtype\": \"string\",\n        \"num_unique_values\": 4,\n        \"samples\": [\n          \"Budi\",\n          \"Dina\",\n          \"Ali\"\n        ],\n        \"semantic_type\": \"\",\n        \"description\": \"\"\n      }\n    },\n    {\n      \"column\": \"Usia\",\n      \"properties\": {\n        \"dtype\": \"number\",\n        \"std\": 9,\n        \"min\": 23,\n        \"max\": 45,\n        \"num_unique_values\": 4,\n        \"samples\": [\n          23,\n          45,\n          34\n        ],\n        \"semantic_type\": \"\",\n        \"description\": \"\"\n      }\n    }\n  ]\n}"
            }
          },
          "metadata": {},
          "execution_count": 6
        }
      ]
    },
    {
      "cell_type": "code",
      "source": [
        "# Tugas 3\n",
        "import pandas as pd\n",
        "\n",
        "# Membuat DataFrame Pandas\n",
        "data_pandas = {\"Nama\": [\"Ali\", \"Budi\", \"Citra\", \"Dina\"], \"Usia\": [34, 23, 29, 45]}\n",
        "df_pandas = pd.DataFrame(data_pandas)\n",
        "\n",
        "# Menampilkan DataFrame Pandas\n",
        "df_pandas\n",
        "\n",
        "# Menambahkan kolom bari yaitu Hobi\n",
        "hobi_list = [\"Traveling\", \"Fotografi\", \"Membaca\", \"Memasak\"]\n",
        "df_pandas[\"Hobi\"] = hobi_list\n",
        "\n",
        "print(df_pandas)\n",
        "print(\"\\n\")\n",
        "\n",
        "# Filtering data berdasarkan usia\n",
        "df_filtered = df_pandas[df_pandas[\"Usia\"] > 27]\n",
        "\n",
        "print(df_filtered)"
      ],
      "metadata": {
        "colab": {
          "base_uri": "https://localhost:8080/"
        },
        "id": "n4Q2iOB97RkQ",
        "outputId": "72ed16a0-ca5f-4a2b-c72f-113362853f63"
      },
      "execution_count": null,
      "outputs": [
        {
          "output_type": "stream",
          "name": "stdout",
          "text": [
            "    Nama  Usia       Hobi\n",
            "0    Ali    34  Traveling\n",
            "1   Budi    23  Fotografi\n",
            "2  Citra    29    Membaca\n",
            "3   Dina    45    Memasak\n",
            "\n",
            "\n",
            "    Nama  Usia       Hobi\n",
            "0    Ali    34  Traveling\n",
            "2  Citra    29    Membaca\n",
            "3   Dina    45    Memasak\n"
          ]
        }
      ]
    },
    {
      "cell_type": "code",
      "source": [
        "import pandas as pd\n",
        "\n",
        "# Membuat DataFrame Pandas\n",
        "data_pandas = {\"Nama\": [\"Ali\", \"Budi\", \"Citra\", \"Dina\"], \"Usia\": [34, 23, 29, 45]}\n",
        "df_pandas = pd.DataFrame(data_pandas)\n",
        "\n",
        "# Membuat DataFrame kedua\n",
        "data_pandas_2 = {\"Nama\": [\"Ali\", \"Budi\", \"Citra\", \"Dina\"], \"Pekerjaan\": [\"Dokter\", \"Guru\", \"Insinyur\", \"Perawat\"]}\n",
        "df_pandas_2 = pd.DataFrame(data_pandas_2)\n",
        "\n",
        "# Join antara dua DataFrame\n",
        "df_joined = pd.merge(df_pandas, df_pandas_2, on=\"Nama\")\n",
        "print(df_joined)\n",
        "\n",
        "# Menghitung statistik deskriptif\n",
        "print(df_pandas.describe())\n",
        "\n",
        "# Plotting Data\n",
        "import matplotlib.pyplot as plt\n",
        "df_pandas['Usia'].plot(kind='bar')\n",
        "plt.show()"
      ],
      "metadata": {
        "colab": {
          "base_uri": "https://localhost:8080/",
          "height": 680
        },
        "id": "Utc8fNS7-sCP",
        "outputId": "b3988741-ba1b-4344-d493-4a2b2825f577"
      },
      "execution_count": null,
      "outputs": [
        {
          "output_type": "stream",
          "name": "stdout",
          "text": [
            "    Nama  Usia Pekerjaan\n",
            "0    Ali    34    Dokter\n",
            "1   Budi    23      Guru\n",
            "2  Citra    29  Insinyur\n",
            "3   Dina    45   Perawat\n",
            "            Usia\n",
            "count   4.000000\n",
            "mean   32.750000\n",
            "std     9.322911\n",
            "min    23.000000\n",
            "25%    27.500000\n",
            "50%    31.500000\n",
            "75%    36.750000\n",
            "max    45.000000\n"
          ]
        },
        {
          "output_type": "display_data",
          "data": {
            "text/plain": [
              "<Figure size 640x480 with 1 Axes>"
            ],
            "image/png": "[encoded data removed]"
          },
          "metadata": {}
        }
      ]
    },
    {
      "cell_type": "code",
      "source": [
        "# Tugas 4\n",
        "import pandas as pd\n",
        "import matplotlib.pyplot as plt\n",
        "\n",
        "# Membuat DataFrame Pandas\n",
        "data_pandas = {\"Nama\": [\"Ali\", \"Budi\", \"Citra\", \"Dina\"], \"Usia\": [34, 23, 29, 45]}\n",
        "df_pandas = pd.DataFrame(data_pandas)\n",
        "\n",
        "# Membuat DataFrame kedua\n",
        "data_pandas_2 = {\"Nama\": [\"Ali\", \"Budi\", \"Citra\", \"Dina\"], \"Pekerjaan\": [\"Dokter\", \"Guru\", \"Insinyur\", \"Perawat\"]}\n",
        "df_pandas_2 = pd.DataFrame(data_pandas_2)\n",
        "\n",
        "# Join antara dua DataFrame\n",
        "df_joined = pd.merge(df_pandas, df_pandas_2, on=\"Nama\")\n",
        "print(df_joined)\n",
        "\n",
        "# Menghitung statistik deskriptif\n",
        "print(df_pandas.describe())\n",
        "\n",
        "# Plotting Data\n",
        "plt.figure(figsize=(6,4))\n",
        "df_pandas.plot(x=\"Nama\", y=\"Usia\", kind=\"bar\", legend=False, color=\"skyblue\")\n",
        "plt.title(\"Usia Mahasiswa\")\n",
        "plt.ylabel(\"Usia\")\n",
        "plt.xlabel(\"Nama\")\n",
        "plt.xticks(rotation=0)\n",
        "plt.show()"
      ],
      "metadata": {
        "colab": {
          "base_uri": "https://localhost:8080/",
          "height": 746
        },
        "id": "MyJKEaYzA9eI",
        "outputId": "c9bde5f4-32f8-4497-9f59-70f910991a6f"
      },
      "execution_count": null,
      "outputs": [
        {
          "output_type": "stream",
          "name": "stdout",
          "text": [
            "    Nama  Usia Pekerjaan\n",
            "0    Ali    34    Dokter\n",
            "1   Budi    23      Guru\n",
            "2  Citra    29  Insinyur\n",
            "3   Dina    45   Perawat\n",
            "            Usia\n",
            "count   4.000000\n",
            "mean   32.750000\n",
            "std     9.322911\n",
            "min    23.000000\n",
            "25%    27.500000\n",
            "50%    31.500000\n",
            "75%    36.750000\n",
            "max    45.000000\n"
          ]
        },
        {
          "output_type": "display_data",
          "data": {
            "text/plain": [
              "<Figure size 600x400 with 0 Axes>"
            ]
          },
          "metadata": {}
        },
        {
          "output_type": "display_data",
          "data": {
            "text/plain": [
              "<Figure size 640x480 with 1 Axes>"
            ],
            "image/png": "[encoded data removed]"
          },
          "metadata": {}
        }
      ]
    },
    {
      "cell_type": "code",
      "source": [
        "# Mengonversi DataFrame dari PySpark ke Pandas\n",
        "df_pandas_from_spark = df.toPandas()\n",
        "\n",
        "# Mengonversi DataFrame dari Pandas ke PySpark\n",
        "df_spark_from_pandas = spark.createDataFrame(df_pandas)\n",
        "\n",
        "# Menampilkan DataFrame hasil konversi\n",
        "df_pandas_from_spark, df_spark_from_pandas.show()"
      ],
      "metadata": {
        "colab": {
          "base_uri": "https://localhost:8080/"
        },
        "id": "Ju71-ACLDOQ2",
        "outputId": "940534df-e7ac-411b-cf2c-c4597b5d7498"
      },
      "execution_count": null,
      "outputs": [
        {
          "output_type": "stream",
          "name": "stdout",
          "text": [
            "+-----+----+\n",
            "| Nama|Usia|\n",
            "+-----+----+\n",
            "|  Ali|  34|\n",
            "| Budi|  23|\n",
            "|Citra|  29|\n",
            "| Dina|  45|\n",
            "+-----+----+\n",
            "\n"
          ]
        },
        {
          "output_type": "execute_result",
          "data": {
            "text/plain": [
              "(    Nama  Usia\n",
              " 0    Ali    34\n",
              " 1   Budi    23\n",
              " 2  Citra    29\n",
              " 3   Dina    45,\n",
              " None)"
            ]
          },
          "metadata": {},
          "execution_count": 14
        }
      ]
    },
    {
      "cell_type": "code",
      "source": [
        "# Tugas 5\n",
        "from pyspark.sql import SparkSession\n",
        "import pandas as pd\n",
        "from pyspark.sql.functions import avg\n",
        "\n",
        "# Memulai Spark Session\n",
        "spark = SparkSession.builder.appName(\"SparkPandasIntegration\").getOrCreate()\n",
        "\n",
        "# DataFrame PySpark\n",
        "data_spark = [(\"Ali\", 34), (\"Budi\", 23), (\"Citra\", 29), (\"Dina\", 45)]\n",
        "columns_spark = [\"Nama\", \"Usia\"]\n",
        "df_spark = spark.createDataFrame(data_spark, columns_spark)\n",
        "\n",
        "df_spark.show()\n",
        "\n",
        "# DataFrame Pandas\n",
        "data_pandas = {\"Nama\": [\"Ali\", \"Budi\", \"Citra\", \"Dina\"], \"Pekerjaan\": [\"Dokter\", \"Guru\", \"Insinyur\", \"Perawat\"]}\n",
        "df_pandas = pd.DataFrame(data_pandas)\n",
        "\n",
        "print(df_pandas)\n",
        "print(\"\\n\")\n",
        "\n",
        "# Mengonversi DataFrame dari PySpark ke Pandas\n",
        "df_spark_from_pandas = spark.createDataFrame(df_pandas)\n",
        "\n",
        "# Join antara dua DataFrame\n",
        "df_joined = df_spark.join(df_spark_from_pandas, on=\"Nama\")\n",
        "df_joined.show()\n",
        "\n",
        "# Analisis sederhana: menghitung rata-rata usia\n",
        "df_joined.groupBy().agg(avg(\"Usia\")).show()"
      ],
      "metadata": {
        "colab": {
          "base_uri": "https://localhost:8080/"
        },
        "id": "KbBenKbGDbl5",
        "outputId": "0884a11f-9d9e-4356-f0d5-6bf34316755c"
      },
      "execution_count": null,
      "outputs": [
        {
          "output_type": "stream",
          "name": "stdout",
          "text": [
            "+-----+----+\n",
            "| Nama|Usia|\n",
            "+-----+----+\n",
            "|  Ali|  34|\n",
            "| Budi|  23|\n",
            "|Citra|  29|\n",
            "| Dina|  45|\n",
            "+-----+----+\n",
            "\n",
            "    Nama Pekerjaan\n",
            "0    Ali    Dokter\n",
            "1   Budi      Guru\n",
            "2  Citra  Insinyur\n",
            "3   Dina   Perawat\n",
            "\n",
            "\n",
            "+-----+----+---------+\n",
            "| Nama|Usia|Pekerjaan|\n",
            "+-----+----+---------+\n",
            "|  Ali|  34|   Dokter|\n",
            "| Budi|  23|     Guru|\n",
            "|Citra|  29| Insinyur|\n",
            "| Dina|  45|  Perawat|\n",
            "+-----+----+---------+\n",
            "\n",
            "+---------+\n",
            "|avg(Usia)|\n",
            "+---------+\n",
            "|    32.75|\n",
            "+---------+\n",
            "\n"
          ]
        }
      ]
    },
    {
      "cell_type": "code",
      "source": [
        "# Mengonversi DataFrame dari PySpark ke Pandas\n",
        "df_pandas_from_spark = df.toPandas()\n",
        "\n",
        "# Mengonversi DataFrame dari Pandas ke PySpark\n",
        "df_spark_from_pandas = spark.createDataFrame(df_pandas)\n",
        "\n",
        "# Menampilkan DataFrame hasil konversi\n",
        "df_pandas_from_spark, df_spark_from_pandas.show()"
      ],
      "metadata": {
        "colab": {
          "base_uri": "https://localhost:8080/"
        },
        "id": "-uKE2IrsKxs4",
        "outputId": "e6014a2b-8db9-42cc-e4a1-9dc83daa599c"
      },
      "execution_count": null,
      "outputs": [
        {
          "output_type": "stream",
          "name": "stdout",
          "text": [
            "+-----+---------+\n",
            "| Nama|Pekerjaan|\n",
            "+-----+---------+\n",
            "|  Ali|   Dokter|\n",
            "| Budi|     Guru|\n",
            "|Citra| Insinyur|\n",
            "| Dina|  Perawat|\n",
            "+-----+---------+\n",
            "\n"
          ]
        },
        {
          "output_type": "execute_result",
          "data": {
            "text/plain": [
              "(    Nama  Usia\n",
              " 0    Ali    34\n",
              " 1   Budi    23\n",
              " 2  Citra    29\n",
              " 3   Dina    45,\n",
              " None)"
            ]
          },
          "metadata": {},
          "execution_count": 21
        }
      ]
    },
    {
      "cell_type": "code",
      "source": [
        "# Tugas 6\n",
        "from pyspark.sql import SparkSession\n",
        "import pandas as pd\n",
        "from pyspark.sql.functions import max\n",
        "\n",
        "# Memulai Spark session\n",
        "spark = SparkSession.builder.appName(\"GabungData\").getOrCreate()\n",
        "\n",
        "# Membuat DataFrame PySpark\n",
        "data_spark = [(\"Ali\", 34), (\"Budi\", 23), (\"Citra\", 29), (\"Dina\", 45)]\n",
        "columns_spark = [\"Nama\", \"Usia\"]\n",
        "df_spark = spark.createDataFrame(data_spark, columns_spark)\n",
        "\n",
        "# DataFrame Pandas\n",
        "data_pandas = {\"Nama\": [\"Ali\", \"Budi\", \"Citra\", \"Dina\"], \"Pekerjaan\": [\"Dokter\", \"Guru\", \"Insinyur\", \"Perawat\"]}\n",
        "df_pandas = pd.DataFrame(data_pandas)\n",
        "\n",
        "# Mengonversi DataFrame dari Pandas ke PySpark\n",
        "df_spark_from_pandas = spark.createDataFrame(df_pandas)\n",
        "\n",
        "# Join antara dua DataFrame\n",
        "df_joined = df_spark.join(df_spark_from_pandas, on=\"Nama\")\n",
        "df_joined.show()\n",
        "\n",
        "# Operasi statistik: nilai maksimum Usia\n",
        "df_joined.agg(max(\"Usia\")).show()\n"
      ],
      "metadata": {
        "colab": {
          "base_uri": "https://localhost:8080/"
        },
        "id": "P8fMIr0CLPfI",
        "outputId": "7c554c6f-8474-4726-e658-2838aaee0e39"
      },
      "execution_count": null,
      "outputs": [
        {
          "output_type": "stream",
          "name": "stdout",
          "text": [
            "+-----+----+---------+\n",
            "| Nama|Usia|Pekerjaan|\n",
            "+-----+----+---------+\n",
            "|  Ali|  34|   Dokter|\n",
            "| Budi|  23|     Guru|\n",
            "|Citra|  29| Insinyur|\n",
            "| Dina|  45|  Perawat|\n",
            "+-----+----+---------+\n",
            "\n",
            "+---------+\n",
            "|max(Usia)|\n",
            "+---------+\n",
            "|       45|\n",
            "+---------+\n",
            "\n"
          ]
        }
      ]
    }
  ]
}